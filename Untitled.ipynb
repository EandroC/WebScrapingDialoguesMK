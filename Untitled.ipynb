{
 "cells": [
  {
   "cell_type": "code",
   "execution_count": 1,
   "id": "985e4685-f212-439f-bf38-90b0c0a3cae0",
   "metadata": {},
   "outputs": [],
   "source": [
    "#pip install selenium"
   ]
  },
  {
   "cell_type": "code",
   "execution_count": 2,
   "id": "34c6da93-3772-42d0-9122-0ff7dbdc83cd",
   "metadata": {},
   "outputs": [],
   "source": [
    "import pandas as pd\n",
    "from selenium import webdriver\n",
    "from selenium.webdriver.chrome.service import Service\n",
    "from selenium.webdriver.common.by import By"
   ]
  },
  {
   "cell_type": "code",
   "execution_count": 3,
   "id": "836f1b8a-2d91-4a76-8d48-acca9c82278e",
   "metadata": {},
   "outputs": [],
   "source": [
    "service = Service()\n",
    "\n",
    "options = webdriver.ChromeOptions()\n",
    "\n",
    "driver = webdriver.Chrome(service=service, options=options)"
   ]
  },
  {
   "cell_type": "code",
   "execution_count": 4,
   "id": "888230b3-7a99-4725-85ee-257b1f373c1c",
   "metadata": {},
   "outputs": [],
   "source": [
    "url = 'https://www.mortalkombatwarehouse.com/mk12/dialogue/'\n",
    "\n",
    "driver.get(url)"
   ]
  },
  {
   "cell_type": "code",
   "execution_count": 5,
   "id": "d1189679-efcc-43f0-b4d1-8cbce71c3dfc",
   "metadata": {},
   "outputs": [
    {
     "data": {
      "text/plain": [
       "'Ashrah: What hell spawned you?\\nAshrah: You will never find out.'"
      ]
     },
     "execution_count": 5,
     "metadata": {},
     "output_type": "execute_result"
    }
   ],
   "source": [
    "driver.find_elements(By.TAG_NAME, 'p')[2].text"
   ]
  },
  {
   "cell_type": "code",
   "execution_count": 6,
   "id": "69da84f6-d6e6-4696-aacf-d9fe6aa9dc8d",
   "metadata": {},
   "outputs": [],
   "source": [
    "elementos = driver.find_elements(By.TAG_NAME, 'p')"
   ]
  },
  {
   "cell_type": "code",
   "execution_count": 7,
   "id": "78a9aa24-36b9-4dd4-b6f2-e6648471fe2d",
   "metadata": {},
   "outputs": [
    {
     "data": {
      "text/plain": [
       "2964"
      ]
     },
     "execution_count": 7,
     "metadata": {},
     "output_type": "execute_result"
    }
   ],
   "source": [
    "len(elementos)"
   ]
  },
  {
   "cell_type": "code",
   "execution_count": null,
   "id": "39345c2f-6e8f-4af9-b161-6ad1f0ee32ac",
   "metadata": {},
   "outputs": [],
   "source": [
    "lista_dialogos = []\n",
    "for paragrafo in elementos[2:]:\n",
    "        dialogo = paragrafo.text\n",
    "        lista_dialogos.append(dialogo)"
   ]
  },
  {
   "cell_type": "code",
   "execution_count": null,
   "id": "671c1349-3623-42b3-b9a0-8ecd2c390ec6",
   "metadata": {},
   "outputs": [],
   "source": [
    "lista_dialogos"
   ]
  },
  {
   "cell_type": "code",
   "execution_count": null,
   "id": "30561c7f-ef8e-4b8a-b4f7-21924fa6c7e4",
   "metadata": {},
   "outputs": [],
   "source": [
    "driver.quit()"
   ]
  },
  {
   "cell_type": "code",
   "execution_count": null,
   "id": "651ee779-979d-4086-9b58-cabf648219ac",
   "metadata": {},
   "outputs": [],
   "source": [
    "def dividir_texto(texto):\n",
    "    partes = texto.split(':', 1)\n",
    "    if len(partes) == 2:\n",
    "        parte1 = partes[0].strip()\n",
    "        restante = partes[1]\n",
    "        subpartes = restante.split('\\n', 1)\n",
    "        if len(subpartes) == 2:\n",
    "            parte2, restante2 = subpartes[0], subpartes[1]\n",
    "            parte2 = parte2.strip()\n",
    "            subpartes2 = restante2.split(':', 1)\n",
    "            if len(subpartes2) == 2:\n",
    "                parte3, parte4 = subpartes2\n",
    "                parte3 = parte3.strip()\n",
    "                parte4 = parte4.strip()\n",
    "                return parte1, parte2, parte3, parte4"
   ]
  },
  {
   "cell_type": "code",
   "execution_count": null,
   "id": "5d0992da-0672-4628-a7d3-12c56c905349",
   "metadata": {},
   "outputs": [],
   "source": [
    "dados = []\n",
    "\n",
    "for texto in lista_dialogos:\n",
    "    parte1, parte2, parte3, parte4 = dividir_texto(texto)\n",
    "    dados.append({'speaker': parte1, 'dialogue_speaker': parte2, 'replier': parte3, 'dialogue_replier': parte4})\n",
    "\n",
    "# Criar DataFrame\n",
    "df = pd.DataFrame(dados)"
   ]
  },
  {
   "cell_type": "code",
   "execution_count": null,
   "id": "d804ddfc-ca00-4877-979b-e92e0e8f8317",
   "metadata": {},
   "outputs": [],
   "source": [
    "df.head()"
   ]
  },
  {
   "cell_type": "code",
   "execution_count": null,
   "id": "bad12dac-9f1a-4e3c-aba9-ce80ae2f5c4b",
   "metadata": {},
   "outputs": [],
   "source": [
    "df['speaker'].unique()"
   ]
  },
  {
   "cell_type": "code",
   "execution_count": null,
   "id": "1e7842bd-23d6-4058-be4a-5bc0ba5ff0d8",
   "metadata": {},
   "outputs": [],
   "source": [
    "df['speaker'] = df['speaker'].replace(['Johnny Cage JCVD'], 'Johnny Cage')\n",
    "df['replier'] = df['replier'].replace(['Johnny Cage JCVD'], 'Johnny Cage')\n",
    "\n",
    "df['speaker'].unique()"
   ]
  },
  {
   "cell_type": "code",
   "execution_count": null,
   "id": "761b01db-4f9e-4bd3-a5b8-7b3fa0292745",
   "metadata": {},
   "outputs": [],
   "source": [
    "siglas = {\n",
    "    'Ashrah': 'AS',\n",
    "    'Baraka': 'BA',\n",
    "    'Ermac': 'ER',\n",
    "    'General Shao': 'GS',\n",
    "    'Geras': 'GE',\n",
    "    'Havik': 'HA',\n",
    "    'Homelander': 'HO',\n",
    "    'Johnny Cage': 'JC',\n",
    "    'Kenshi': 'KE',\n",
    "    'Kitana': 'KI',\n",
    "    'Kung Lao': 'KL',\n",
    "    'Li Mei': 'LM',\n",
    "    'Liu Kang': 'LK',\n",
    "    'Mileena': 'MI',\n",
    "    'Nitara': 'NI',\n",
    "    'Omni-Man': 'OM',\n",
    "    'Peacemaker': 'PE',\n",
    "    'Quan Chi': 'QC',\n",
    "    'Raiden': 'RA',\n",
    "    'Rain': 'RI',\n",
    "    'Reiko': 'RE',\n",
    "    'Reptile': 'RP',\n",
    "    'Scorpion': 'SC',\n",
    "    'Shang Tsung': 'ST',\n",
    "    'Sindel': 'SI',\n",
    "    'Smoke': 'SM',\n",
    "    'Sub-Zero': 'SZ',\n",
    "    'Tanya': 'TA'\n",
    "}"
   ]
  },
  {
   "cell_type": "code",
   "execution_count": null,
   "id": "38642c8b-0cb1-4ba4-b9d8-809cbfc0fe81",
   "metadata": {},
   "outputs": [],
   "source": [
    "def combinar_siglas(row):\n",
    "    sigla1 = siglas.get(row['speaker'], '')\n",
    "    sigla2 = siglas.get(row['replier'], '')\n",
    "    return f\"{sigla1}-{sigla2}\""
   ]
  },
  {
   "cell_type": "code",
   "execution_count": null,
   "id": "f9578d55-1ed4-4a8b-9a34-ae2e61463cff",
   "metadata": {},
   "outputs": [],
   "source": [
    "df['ID'] = df.apply(combinar_siglas, axis=1)\n",
    "\n",
    "df.head(50)"
   ]
  },
  {
   "cell_type": "code",
   "execution_count": null,
   "id": "79e94609-ea17-4317-acc7-5e6b0c874c48",
   "metadata": {},
   "outputs": [],
   "source": []
  }
 ],
 "metadata": {
  "kernelspec": {
   "display_name": "Python 3 (ipykernel)",
   "language": "python",
   "name": "python3"
  },
  "language_info": {
   "codemirror_mode": {
    "name": "ipython",
    "version": 3
   },
   "file_extension": ".py",
   "mimetype": "text/x-python",
   "name": "python",
   "nbconvert_exporter": "python",
   "pygments_lexer": "ipython3",
   "version": "3.11.7"
  }
 },
 "nbformat": 4,
 "nbformat_minor": 5
}
