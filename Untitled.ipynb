{
 "cells": [
  {
   "cell_type": "code",
   "execution_count": 1,
   "id": "985e4685-f212-439f-bf38-90b0c0a3cae0",
   "metadata": {},
   "outputs": [],
   "source": [
    "#pip install selenium"
   ]
  },
  {
   "cell_type": "code",
   "execution_count": 2,
   "id": "34c6da93-3772-42d0-9122-0ff7dbdc83cd",
   "metadata": {},
   "outputs": [],
   "source": [
    "import pandas as pd\n",
    "from selenium import webdriver\n",
    "from selenium.webdriver.chrome.service import Service\n",
    "from selenium.webdriver.common.by import By"
   ]
  },
  {
   "cell_type": "code",
   "execution_count": null,
   "id": "836f1b8a-2d91-4a76-8d48-acca9c82278e",
   "metadata": {},
   "outputs": [],
   "source": [
    "service = Service()\n",
    "\n",
    "options = webdriver.ChromeOptions()\n",
    "\n",
    "driver = webdriver.Chrome(service=service, options=options)"
   ]
  },
  {
   "cell_type": "code",
   "execution_count": null,
   "id": "888230b3-7a99-4725-85ee-257b1f373c1c",
   "metadata": {},
   "outputs": [],
   "source": [
    "url = 'https://www.mortalkombatwarehouse.com/mk12/dialogue/'\n",
    "\n",
    "driver.get(url)"
   ]
  },
  {
   "cell_type": "code",
   "execution_count": null,
   "id": "d1189679-efcc-43f0-b4d1-8cbce71c3dfc",
   "metadata": {},
   "outputs": [],
   "source": [
    "driver.find_elements(By.TAG_NAME, 'p')[2].text"
   ]
  },
  {
   "cell_type": "code",
   "execution_count": null,
   "id": "69da84f6-d6e6-4696-aacf-d9fe6aa9dc8d",
   "metadata": {},
   "outputs": [],
   "source": [
    "elementos = driver.find_elements(By.TAG_NAME, 'p')"
   ]
  },
  {
   "cell_type": "code",
   "execution_count": null,
   "id": "78a9aa24-36b9-4dd4-b6f2-e6648471fe2d",
   "metadata": {},
   "outputs": [],
   "source": [
    "elementos[2]"
   ]
  },
  {
   "cell_type": "code",
   "execution_count": null,
   "id": "39345c2f-6e8f-4af9-b161-6ad1f0ee32ac",
   "metadata": {},
   "outputs": [],
   "source": [
    "lista_dialogos = []\n",
    "for paragrafo in elementos[2:]:\n",
    "        dialogo = paragrafo.text\n",
    "        lista_dialogos.append(dialogo)"
   ]
  },
  {
   "cell_type": "code",
   "execution_count": null,
   "id": "671c1349-3623-42b3-b9a0-8ecd2c390ec6",
   "metadata": {},
   "outputs": [],
   "source": [
    "lista_dialogos"
   ]
  },
  {
   "cell_type": "code",
   "execution_count": null,
   "id": "30561c7f-ef8e-4b8a-b4f7-21924fa6c7e4",
   "metadata": {},
   "outputs": [],
   "source": []
  }
 ],
 "metadata": {
  "kernelspec": {
   "display_name": "Python 3 (ipykernel)",
   "language": "python",
   "name": "python3"
  },
  "language_info": {
   "codemirror_mode": {
    "name": "ipython",
    "version": 3
   },
   "file_extension": ".py",
   "mimetype": "text/x-python",
   "name": "python",
   "nbconvert_exporter": "python",
   "pygments_lexer": "ipython3",
   "version": "3.11.7"
  }
 },
 "nbformat": 4,
 "nbformat_minor": 5
}
